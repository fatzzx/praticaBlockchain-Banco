{
  "nbformat": 4,
  "nbformat_minor": 0,
  "metadata": {
    "colab": {
      "provenance": [],
      "include_colab_link": true
    },
    "kernelspec": {
      "name": "python3",
      "display_name": "Python 3"
    },
    "language_info": {
      "name": "python"
    }
  },
  "cells": [
    {
      "cell_type": "markdown",
      "metadata": {
        "id": "view-in-github",
        "colab_type": "text"
      },
      "source": [
        "<a href=\"https://colab.research.google.com/github/fatzzx/praticaBlockchain-Banco/blob/main/blockchain.ipynb\" target=\"_parent\"><img src=\"https://colab.research.google.com/assets/colab-badge.svg\" alt=\"Open In Colab\"/></a>"
      ]
    },
    {
      "cell_type": "code",
      "source": [
        "#------------------\n",
        "#range\n",
        "a = range(10)\n",
        "for e in a:\n",
        "  print(e, end=' ')"
      ],
      "metadata": {
        "colab": {
          "base_uri": "https://localhost:8080/"
        },
        "id": "0bH-JXC-uSqE",
        "outputId": "c082b400-986f-4e20-c993-012673092c5d"
      },
      "execution_count": 1,
      "outputs": [
        {
          "output_type": "stream",
          "name": "stdout",
          "text": [
            "0 1 2 3 4 5 6 7 8 9 "
          ]
        }
      ]
    },
    {
      "cell_type": "code",
      "source": [
        "#------------------\n",
        "#len\n",
        "b = len(a)\n",
        "print(b)"
      ],
      "metadata": {
        "colab": {
          "base_uri": "https://localhost:8080/"
        },
        "id": "PYHa_Gj3wXjV",
        "outputId": "03d90faf-a72e-41b6-d483-81152cf2ab7e"
      },
      "execution_count": 2,
      "outputs": [
        {
          "output_type": "stream",
          "name": "stdout",
          "text": [
            "10\n"
          ]
        }
      ]
    },
    {
      "cell_type": "code",
      "source": [
        "#------------------\n",
        "l = [1, 2, 3, 4, 5, 6 ,7, 8, 9]\n",
        "print(l[:5])\n",
        "print(l[5:])\n",
        "print(l[-1])"
      ],
      "metadata": {
        "colab": {
          "base_uri": "https://localhost:8080/"
        },
        "id": "UaUGe_tFwrEa",
        "outputId": "86437122-ffdf-40c9-a9b7-de35052a5db2"
      },
      "execution_count": 3,
      "outputs": [
        {
          "output_type": "stream",
          "name": "stdout",
          "text": [
            "[1, 2, 3, 4, 5]\n",
            "[6, 7, 8, 9]\n",
            "9\n"
          ]
        }
      ]
    },
    {
      "cell_type": "code",
      "execution_count": 15,
      "metadata": {
        "id": "xGwRlQQMGutS"
      },
      "outputs": [],
      "source": [
        "#BLOCO 1\n",
        "import hashlib\n",
        "\n",
        "class Bloco:\n",
        "    def __init__(self, index, dados, hash_anterior, dificuldade=4):\n",
        "        self.index = index\n",
        "        self.dados = dados\n",
        "        self.hash_anterior = hash_anterior\n",
        "        self.nonce = 0\n",
        "        self.dificuldade = dificuldade\n",
        "        self.hash = self.gerar_hash()\n",
        "\n",
        "    def gerar_hash(self):\n",
        "        hash_string = str(self.index) + str(self.dados) + str(self.hash_anterior) + str(self.nonce)\n",
        "        encoded_string = hash_string.encode('utf-8')\n",
        "        sha256_hash = hashlib.sha256()\n",
        "        sha256_hash.update(encoded_string)\n",
        "        hashed_output = sha256_hash.hexdigest()\n",
        "        return hashed_output\n",
        "\n",
        "    def minerar_bloco(self):\n",
        "      self.nonce = 0\n",
        "      self.hash = self.gerar_hash()\n",
        "      while not self.validar():\n",
        "          self.nonce += 1\n",
        "          self.hash = self.gerar_hash()\n",
        "\n",
        "    def validar(self):\n",
        "        if self.hash[:self.dificuldade] != '0' * self.dificuldade:\n",
        "            return False\n",
        "        return True\n",
        "\n",
        "    def __str__(self):\n",
        "      return f\"------------------\\nIndex: {self.index}\\nDados: {self.dados}\\nHash Anterior: {self.hash_anterior}\\nHash: {self.hash}\""
      ]
    },
    {
      "cell_type": "code",
      "source": [
        "#BLOCO 2\n",
        "class CadeiaBlocos:\n",
        "  def __init__(self):\n",
        "    self.cadeia = []\n",
        "    self.cadeia.append(self.criar_bloco_genesis())\n",
        "    self.minerar_ultimo_bloco()\n",
        "\n",
        "  def criar_bloco_genesis(self):\n",
        "    return Bloco(0, \"Bloco Genesis\", \"0000\")\n",
        "\n",
        "  def add_bloco(self, dados):\n",
        "      novo_bloco = Bloco(len(self.cadeia), dados, self.cadeia[-1].hash)\n",
        "      if not novo_bloco.validar():\n",
        "        novo_bloco.minerar_bloco()\n",
        "      if novo_bloco.validar():\n",
        "          self.cadeia.append(novo_bloco)\n",
        "      else:\n",
        "          print(\"Erro: bloco inválido não foi adicionado.\")\n",
        "\n",
        "  def atualiza_cadeia_a_partir(self, indice):\n",
        "    for i in range(indice, len(self.cadeia)):\n",
        "      self.cadeia[i].hash_anterior = self.cadeia[i-1].hash\n",
        "      self.cadeia[i].hash = self.cadeia[i].gerar_hash()\n",
        "\n",
        "  def minerar_ultimo_bloco(self):\n",
        "    self.cadeia[-1].minerar_bloco()\n",
        "\n",
        "  def minerar_todos_blocos(self):\n",
        "    for i in range(0, len(self.cadeia)):\n",
        "      self.cadeia[i].minerar_bloco()\n",
        "\n",
        "\n",
        "  def mudar_dados(self, index, dados):\n",
        "    if index >= 0 and index < len(self.cadeia):\n",
        "      self.cadeia[index].dados = dados\n",
        "      self.atualiza_cadeia_a_partir(index)\n",
        "    else:\n",
        "      print(\"Índice inválido\")\n",
        "\n",
        "  def verifica_cadeia(self):\n",
        "    for b in self.cadeia:\n",
        "      if b.validar():\n",
        "        print(f\"\\033[92mBloco n {b.index} válido\\033[0m\")\n",
        "        print(b)\n",
        "      else:\n",
        "        print(f\"\\033[91mBloco n {b.index} inválido\\033[0m\")\n",
        "        print(b)\n",
        "\n",
        "  def __str__(self):\n",
        "    return '\\n'.join(str(bloco) for bloco in self.cadeia)"
      ],
      "metadata": {
        "id": "8XmI7Hp4I141"
      },
      "execution_count": 31,
      "outputs": []
    },
    {
      "cell_type": "code",
      "source": [
        "#BLOCO 3\n",
        "blockchain = CadeiaBlocos()\n",
        "blockchain.add_bloco(\"Transação 1\")\n",
        "blockchain.add_bloco(\"Transação 2\")\n",
        "blockchain.add_bloco(\"Transação 3\")\n",
        "blockchain.add_bloco(\"Transação 4\")\n",
        "blockchain.add_bloco(\"Transação 5\")\n",
        "blockchain.add_bloco(\"Transação 6\")\n",
        "blockchain.add_bloco(\"Transação 7\")\n",
        "blockchain.add_bloco(\"Transação 8\")\n",
        "blockchain.add_bloco(\"Transação 9\")"
      ],
      "metadata": {
        "id": "pjl-7Qy9WKGR"
      },
      "execution_count": 32,
      "outputs": []
    },
    {
      "cell_type": "code",
      "source": [
        "# - Altere manualmente os dados de um bloco na cadeia para corrompê-lo, com mudar_dados(numeroBloco, valorMudado), e depois verifique os estados da cadeia com o metodo verifica_cadeia()\n",
        "#Escreva aqui\n",
        "\n",
        "\n",
        "\n"
      ],
      "metadata": {
        "id": "LNvc-94gf1rB"
      },
      "execution_count": 33,
      "outputs": []
    },
    {
      "cell_type": "code",
      "source": [
        "#Aumente a dificuldade no bloco1, e tente rodar novamente o bloco 3"
      ],
      "metadata": {
        "id": "IwjY1XOndhHa"
      },
      "execution_count": 34,
      "outputs": []
    },
    {
      "cell_type": "code",
      "source": [
        "class Pessoa:\n",
        "    def __init__(self, nome):\n",
        "        self.nome = nome\n",
        "        self.cadeia_local = CadeiaBlocos()\n",
        "\n",
        "    def adicionar_transacao(self, remetente, destinatario, valor):\n",
        "        transacao = {\"remetente\": remetente.nome, \"destinatario\": destinatario.nome, \"valor\": valor}\n",
        "        print(f\"{remetente.nome} realizou uma transação para {destinatario.nome}, no valor de {valor}.\")\n",
        "        return transacao\n",
        "\n",
        "    def atualiza_cadeia(self, cadeia):\n",
        "      self.cadeia_local = cadeia\n",
        "\n",
        "    def __str__(self):\n",
        "        return f\"{self.nome} - Blockchain Local: \\n{self.blockchain_local}\""
      ],
      "metadata": {
        "id": "FJeLHLWfjsyn"
      },
      "execution_count": 65,
      "outputs": []
    },
    {
      "cell_type": "code",
      "source": [
        "class RedeBlockchain:\n",
        "    def __init__(self, recompensa_mineracao=50):\n",
        "        self.recompensa_mineracao = recompensa_mineracao\n",
        "        self.transacoes_pendentes = []\n",
        "        self.pessoas = []\n",
        "        self.blockchain = CadeiaBlocos()\n",
        "\n",
        "    def adicionar_transacao(self, remetente, destinatario, valor):\n",
        "        transacao = {\"remetente\": remetente.nome, \"destinatario\": destinatario.nome, \"valor\": valor}\n",
        "        self.transacoes_pendentes.append(transacao)\n",
        "        print(f\"Transação adicionada ao mempool: {transacao}\")\n",
        "\n",
        "    def adicionar_pessoa(self, pessoa):\n",
        "        self.pessoas.append(pessoa)\n",
        "        print(f\"{pessoa.nome} foi adicionada à rede.\")\n",
        "\n",
        "    def atualiza_cadeia(self, bloco):\n",
        "        print(f\"Transmitindo o bloco {bloco.index} para a rede...\")\n",
        "        for pessoa in self.pessoas:\n",
        "            pessoa.atualiza_cadeia(self.blockchain)\n",
        "\n",
        "    def minerar_transacoes(self, minerador):\n",
        "        if not self.transacoes_pendentes:\n",
        "            print(f\"Nenhuma transação para minerar\")\n",
        "            return\n",
        "\n",
        "        dados_transacoes = self.transacoes_pendentes.copy()\n",
        "        self.transacoes_pendentes.clear()\n",
        "\n",
        "        dados_transacoes.append({\"remetente\": \"Sistema\", \"destinatario\": minerador.nome, \"valor\": self.recompensa_mineracao})\n",
        "\n",
        "        novo_bloco = Bloco(len(self.blockchain.cadeia), dados_transacoes, self.blockchain.cadeia[-1].hash)\n",
        "        novo_bloco.minerar_bloco()\n",
        "        self.blockchain.cadeia.append(novo_bloco)\n",
        "\n",
        "        print(f\"{minerador.nome} minerou um bloco e recebeu {self.recompensa_mineracao} reais!\")\n",
        "        self.atualiza_cadeia(novo_bloco)\n",
        "\n",
        "    def mostrar_transacoes_pendentes(self):\n",
        "        print(\"Transações Pendentes (Mempool):\")\n",
        "        for transacao in self.transacoes_pendentes:\n",
        "            print(transacao)"
      ],
      "metadata": {
        "id": "hQK6nHH0oHaY"
      },
      "execution_count": 72,
      "outputs": []
    },
    {
      "cell_type": "code",
      "source": [
        "fatzzx = Pessoa(\"fatzzx\")\n",
        "nika = Pessoa(\"Nika\")\n",
        "aragao = Pessoa(\"Aragão\")\n",
        "diogo = Pessoa(\"Diogo\")\n",
        "\n",
        "rede = RedeBlockchain()\n",
        "\n",
        "rede.adicionar_pessoa(fatzzx)\n",
        "rede.adicionar_pessoa(nika)\n",
        "rede.adicionar_pessoa(aragao)\n",
        "rede.adicionar_pessoa(diogo)\n",
        "\n",
        "rede.adicionar_transacao(fatzzx, nika, 100)\n",
        "rede.adicionar_transacao(nika, aragao, 50)\n",
        "rede.adicionar_transacao(aragao, diogo, 200)\n",
        "rede.adicionar_transacao(diogo, fatzzx, 150)"
      ],
      "metadata": {
        "colab": {
          "base_uri": "https://localhost:8080/"
        },
        "id": "yjmwAy7eoJwK",
        "outputId": "3c1c3c03-6de5-4612-b95c-f63cff4ae2a4"
      },
      "execution_count": 73,
      "outputs": [
        {
          "output_type": "stream",
          "name": "stdout",
          "text": [
            "fatzzx foi adicionada à rede.\n",
            "Nika foi adicionada à rede.\n",
            "Aragão foi adicionada à rede.\n",
            "Diogo foi adicionada à rede.\n",
            "Transação adicionada ao mempool: {'remetente': 'fatzzx', 'destinatario': 'Nika', 'valor': 100}\n",
            "Transação adicionada ao mempool: {'remetente': 'Nika', 'destinatario': 'Aragão', 'valor': 50}\n",
            "Transação adicionada ao mempool: {'remetente': 'Aragão', 'destinatario': 'Diogo', 'valor': 200}\n",
            "Transação adicionada ao mempool: {'remetente': 'Diogo', 'destinatario': 'fatzzx', 'valor': 150}\n"
          ]
        }
      ]
    },
    {
      "cell_type": "code",
      "source": [
        "rede.mostrar_transacoes_pendentes()"
      ],
      "metadata": {
        "colab": {
          "base_uri": "https://localhost:8080/"
        },
        "id": "FwxBlcSOog7O",
        "outputId": "01a088f9-b2de-4d7a-e3bc-fdcd909b2bdf"
      },
      "execution_count": 74,
      "outputs": [
        {
          "output_type": "stream",
          "name": "stdout",
          "text": [
            "Transações Pendentes (Mempool):\n",
            "{'remetente': 'fatzzx', 'destinatario': 'Nika', 'valor': 100}\n",
            "{'remetente': 'Nika', 'destinatario': 'Aragão', 'valor': 50}\n",
            "{'remetente': 'Aragão', 'destinatario': 'Diogo', 'valor': 200}\n",
            "{'remetente': 'Diogo', 'destinatario': 'fatzzx', 'valor': 150}\n"
          ]
        }
      ]
    },
    {
      "cell_type": "code",
      "source": [
        "soussa = Pessoa(\"Soussa\")\n",
        "rede.adicionar_pessoa(soussa)\n",
        "rede.minerar_transacoes(soussa)"
      ],
      "metadata": {
        "colab": {
          "base_uri": "https://localhost:8080/"
        },
        "id": "Q8Q8KaGOony-",
        "outputId": "e8a61064-6c5b-4b52-c699-f7af6356e98f"
      },
      "execution_count": 75,
      "outputs": [
        {
          "output_type": "stream",
          "name": "stdout",
          "text": [
            "Soussa foi adicionada à rede.\n",
            "Soussa minerou um bloco e recebeu 50 reais!\n",
            "Transmitindo o bloco 1 para a rede...\n"
          ]
        }
      ]
    },
    {
      "cell_type": "code",
      "source": [
        "rede.blockchain.verifica_cadeia()"
      ],
      "metadata": {
        "colab": {
          "base_uri": "https://localhost:8080/"
        },
        "id": "kc1el0zj_06D",
        "outputId": "827dc41d-dfa2-4f7b-e01e-a8d34dfd4480"
      },
      "execution_count": 77,
      "outputs": [
        {
          "output_type": "stream",
          "name": "stdout",
          "text": [
            "\u001b[92mBloco n 0 válido\u001b[0m\n",
            "------------------\n",
            "Index: 0\n",
            "Dados: Bloco Genesis\n",
            "Hash Anterior: 0000\n",
            "Hash: 00005c6b63dc9ed3c7fcaa512b3f3d8a527cbf79846ab2965dc405e661525323\n",
            "\u001b[92mBloco n 1 válido\u001b[0m\n",
            "------------------\n",
            "Index: 1\n",
            "Dados: [{'remetente': 'fatzzx', 'destinatario': 'Nika', 'valor': 100}, {'remetente': 'Nika', 'destinatario': 'Aragão', 'valor': 50}, {'remetente': 'Aragão', 'destinatario': 'Diogo', 'valor': 200}, {'remetente': 'Diogo', 'destinatario': 'fatzzx', 'valor': 150}, {'remetente': 'Sistema', 'destinatario': 'Soussa', 'valor': 50}]\n",
            "Hash Anterior: 00005c6b63dc9ed3c7fcaa512b3f3d8a527cbf79846ab2965dc405e661525323\n",
            "Hash: 0000efd0dcd111ae95e6f4200c3d7138ebd463ffa7171d1d89fd84d57a06c06f\n"
          ]
        }
      ]
    },
    {
      "cell_type": "code",
      "source": [
        "fatzzx.cadeia_local.verifica_cadeia()"
      ],
      "metadata": {
        "colab": {
          "base_uri": "https://localhost:8080/"
        },
        "id": "hseERwgX_6b5",
        "outputId": "7add1ca6-6a80-4581-aa1b-76fdf6010c05"
      },
      "execution_count": 78,
      "outputs": [
        {
          "output_type": "stream",
          "name": "stdout",
          "text": [
            "\u001b[92mBloco n 0 válido\u001b[0m\n",
            "------------------\n",
            "Index: 0\n",
            "Dados: Bloco Genesis\n",
            "Hash Anterior: 0000\n",
            "Hash: 00005c6b63dc9ed3c7fcaa512b3f3d8a527cbf79846ab2965dc405e661525323\n",
            "\u001b[92mBloco n 1 válido\u001b[0m\n",
            "------------------\n",
            "Index: 1\n",
            "Dados: [{'remetente': 'fatzzx', 'destinatario': 'Nika', 'valor': 100}, {'remetente': 'Nika', 'destinatario': 'Aragão', 'valor': 50}, {'remetente': 'Aragão', 'destinatario': 'Diogo', 'valor': 200}, {'remetente': 'Diogo', 'destinatario': 'fatzzx', 'valor': 150}, {'remetente': 'Sistema', 'destinatario': 'Soussa', 'valor': 50}]\n",
            "Hash Anterior: 00005c6b63dc9ed3c7fcaa512b3f3d8a527cbf79846ab2965dc405e661525323\n",
            "Hash: 0000efd0dcd111ae95e6f4200c3d7138ebd463ffa7171d1d89fd84d57a06c06f\n"
          ]
        }
      ]
    },
    {
      "cell_type": "code",
      "source": [
        "rede.mostrar_transacoes_pendentes()\n",
        "rede.minerar_transacoes(soussa)"
      ],
      "metadata": {
        "colab": {
          "base_uri": "https://localhost:8080/"
        },
        "id": "xYlAi4Q8DgEL",
        "outputId": "91cf72a2-f5bb-442b-f618-ec1fa76ae634"
      },
      "execution_count": 80,
      "outputs": [
        {
          "output_type": "stream",
          "name": "stdout",
          "text": [
            "Transações Pendentes (Mempool):\n",
            "Nenhuma transação para minerar\n"
          ]
        }
      ]
    },
    {
      "cell_type": "code",
      "source": [],
      "metadata": {
        "id": "WSgU8MmAEAzv"
      },
      "execution_count": 81,
      "outputs": []
    },
    {
      "cell_type": "code",
      "source": [],
      "metadata": {
        "id": "l4hREOmnEk8v"
      },
      "execution_count": null,
      "outputs": []
    }
  ]
}